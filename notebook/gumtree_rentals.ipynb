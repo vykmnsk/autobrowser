{
 "metadata": {
  "name": "gumtree_rentals"
 }, 
 "nbformat": 2, 
 "worksheets": [
  {
   "cells": [
    {
     "cell_type": "code", 
     "collapsed": true, 
     "input": [
      "from selenium import webdriver", 
      "from selenium.common.exceptions import NoSuchElementException", 
      "from selenium.webdriver.common.keys import Keys", 
      "import time", 
      "import os", 
      "", 
      "def find_places_box():", 
      "    menuboxes = driver.find_elements_by_css_selector('ul.srp-nav-attr-list')", 
      "    if len(menuboxes) < 4:", 
      "        time.sleep(5)", 
      "        menuboxes = driver.find_elements_by_css_selector('ul.srp-nav-attr-list')", 
      "    return menuboxes[3]", 
      "", 
      "def navigateMenu():", 
      "    for m in menu:", 
      "        places = find_places_box()", 
      "        places.find_element_by_link_text(m).click()", 
      "        ", 
      "def setMinMax(min, max):", 
      "    driver.find_element_by_id('srp-nav-price-min').send_keys(min)", 
      "    driver.find_element_by_id('srp-nav-price-max').send_keys(max)", 
      "    driver.find_element_by_id('srp-nav-price-sbmt').click()       ", 
      "    ", 
      "def sort(by='Cheapest'):", 
      "    sortby = driver.find_element_by_id('sortingField-selector-input')", 
      "    sortby.send_keys(by)", 
      "    sortby.send_keys(Keys.RETURN)", 
      "    ", 
      "def paginate(results=100):", 
      "    results_per_page = driver.find_element_by_id('resultsperpage-select')", 
      "    results_per_page.send_keys(results)", 
      "    ", 
      "def read_detail(row):", 
      "    detail_el = row.find_element_by_css_selector('div.rs-ad-field.rs-ad-detail')", 
      "    try:", 
      "        detail_el.find_element_by_link_text('show more').click()", 
      "    except NoSuchElementException:", 
      "        pass", 
      "    return detail_el.text.encode('ascii', 'ignore')    ", 
      "", 
      "def read_price(row):", 
      "    price_el = row.find_element_by_css_selector('div.rs-ad-field.rs-ad-price')", 
      "    price = price_el.text.replace('$', '').replace(',', '')", 
      "    price = price.split('.')[0]", 
      "    try:", 
      "        price = int(price)", 
      "    except ValueError:", 
      "        price = 999", 
      "    return price", 
      "", 
      "def read_url(row):", 
      "    link = row.find_element_by_css_selector('a.rs-ad-title.h-elips')", 
      "    return link.get_attribute('href')    ", 
      "    ", 
      "def read_items():", 
      "    rows = driver.find_elements_by_css_selector('ul#srchrslt-adtable li')", 
      "    items = []", 
      "    for row in rows:", 
      "        detail = read_detail(row)", 
      "        if is_blacklisted(detail):", 
      "            continue", 
      "        price = read_price(row)", 
      "        url = read_url(row)", 
      "        items.append((price, detail, url))", 
      "    return items   ", 
      "", 
      "def is_blacklisted(detail):", 
      "    detail_norm = detail.lower()", 
      "    return (detail_norm.startswith('wanted')", 
      "        or 'office space' in detail_norm", 
      "        or 'studio' in detail_norm)"
     ], 
     "language": "python", 
     "outputs": [], 
     "prompt_number": 1
    }, 
    {
     "cell_type": "code", 
     "collapsed": true, 
     "input": [
      "chromedriver_path = \"/Users/bear/dev/chromedriver\"", 
      "os.environ[\"webdriver.chrome.driver\"] = chromedriver_path", 
      "driver = webdriver.Chrome(chromedriver_path)"
     ], 
     "language": "python", 
     "outputs": [], 
     "prompt_number": 2
    }, 
    {
     "cell_type": "code", 
     "collapsed": true, 
     "input": [
      "driver.get('http://www.gumtree.com.au/')", 
      "menu_melb = ('Victoria', 'Melbourne Region', 'show more')", 
      "#menu = menu_melb + ('Yarra Area', 'Richmond')", 
      "menu = menu_melb + ('Hobsons Bay Area', )", 
      "#menu = menu_melb + ('Whitehorse Area', )"
     ], 
     "language": "python", 
     "outputs": [], 
     "prompt_number": 12
    }, 
    {
     "cell_type": "code", 
     "collapsed": true, 
     "input": [
      "### RUN ###", 
      "driver.find_element_by_link_text('Property for Rent').click()", 
      "navigateMenu()", 
      "setMinMax(200, 360)", 
      "sort(by='Cheapest')", 
      "#paginate(100)"
     ], 
     "language": "python", 
     "outputs": [], 
     "prompt_number": 13
    }, 
    {
     "cell_type": "code", 
     "collapsed": false, 
     "input": [
      "items = read_items()", 
      "for price, detail, url in items:", 
      "    print '\\n{0}\\n{1}\\n{2}'.format(price, detail, url)"
     ], 
     "language": "python", 
     "outputs": [
      {
       "output_type": "stream", 
       "stream": "stdout", 
       "text": [
        "", 
        "240", 
        "Affordable & Great Location", 
        "Affordable, ground floor, 1 bedroom apartment in well maintained, quiet block. Featuring spacious living/kitch...en with electric cooking and heating, bedroom with built in robes, ensuite bathroom with shower over bath and laundry facilities & OSP. Walking distance to shops and public transport, close to Altona Gate Shopping Centre and easy access to the West Gate Freeway. KEYS IN OFFICE & ALSO AVAILABLE FROM BARLOW McEWAN TRIBE R/E -ALTONA PH:9398 3888.", 
        "http://www.gumtree.com.au/s-ad/altona-north/property-for-rent/affordable-great-location/1015854449", 
        "", 
        "240", 
        "2 Bedroom unit for rent in Brooklyn / Altona North", 
        "2 minutes to Altona North shopping centre and transport Very comfortable location for transport with lots of...", 
        "http://www.gumtree.com.au/s-ad/altona-north/property-for-rent/2-bedroom-unit-for-rent-in-brooklyn-altona-north/1015426760", 
        "", 
        "250", 
        "Looking for tenants in Newport until July 2013.", 
        "Beautiful one bedroom unit is available for rent in Schutt Street, Newport. Floorboards throughout, as well as... air conditioning and heating. Close to local services. 8 minute walk to Newport station, numerous local buses, and shops. Located in a quiet, beautiful street, this little hideaway would perfectly suite students or a young couple looking to get their own place. No pets please.", 
        "http://www.gumtree.com.au/s-ad/hobsons-bay-area/property-for-rent/looking-for-tenants-in-newport-until-july-2013-/1014567083", 
        "", 
        "270", 
        "Take over a lease, only until Aug 2013", 
        "I would like to see if anyone would like to take over a lease I have. 2 bedroom renovated flat. I have been ...here since Aug 2012 and the lease was for one year. I have a friend moving to another area in Melbourne and I would like to move in with them. So I would like to offer this until 8th Aug 2013 through agents, paperwork would need to be signed over to new tenants and references will be needed. Basically the same proceedure as when you move into a new place through an agency you just ...", 
        "http://www.gumtree.com.au/s-ad/altona-north/property-for-rent/take-over-a-lease-only-until-aug-2013/1014461923", 
        "", 
        "280", 
        "3 bedroom large house", 
        "3 bedroom large lounge. Seperate lounge. Air conditioning/heating. Large backyard. Off street parking", 
        "http://www.gumtree.com.au/s-ad/altona-meadows/property-for-rent/3-bedroom-large-house-/1016367210", 
        "", 
        "290", 
        "Self contained unit", 
        "All bills paid close to shops and transport", 
        "http://www.gumtree.com.au/s-ad/altona/property-for-rent/self-contained-unit/1016359970", 
        "", 
        "295", 
        "Apartment in Kingsville, break lease", 
        "Hi, I'm looking at getting out of my lease to move in with my fianc. I love this apartment and it's with reg...ret that I'm looking at moving. I'm looking at someone taking over my lease which ends 2nd September 2013. The weekly rent is $295, bond is $1278, with four weeks in advance, that being said the new applicant with still require approval from the estate agent. Great apartment with balcony, undercover secure parking, video entry, first floor.... But don't take my word for it, come and ...", 
        "http://www.gumtree.com.au/s-ad/hobsons-bay-area/property-for-rent/apartment-in-kingsville-break-lease/1016521611", 
        "", 
        "295", 
        "Very Spacious and Clean 1 Bedroom Apartment in Williamstown", 
        "$590 per fortnight Freshly painted, new carpet, new washing machine and fridge. Lots of natural light. Cent...", 
        "http://www.gumtree.com.au/s-ad/williamstown/property-for-rent/very-spacious-and-clean-1-bedroom-apartment-in-williamstown/1015342766", 
        "", 
        "300", 
        "Unit for rent", 
        "Self contained bungalow / unit available All expenses paid Altona area", 
        "http://www.gumtree.com.au/s-ad/altona/property-for-rent/unit-for-rent/1016359799", 
        "", 
        "300", 
        "Fully furnished 2 bedroom unit for rent", 
        "Fully furnished first floor unit located in North Williamstown. Friendly neighbourhood community. Close to bus... stop to North Williamstown train station, shops, cafes and restaurants. 2 double bedrooms with built in wardrobes. Galley style kitchen fully equipped, Dining room, large lounge, One bathroom with shower over small bath and washing machine. Off street parking for two cars Walking/bicycle track along the water front located at the end of the street. Bikes available. Available ...", 
        "http://www.gumtree.com.au/s-ad/williamstown-north/property-for-rent/fully-furnished-2-bedroom-unit-for-rent/1013789016", 
        "", 
        "345", 
        "~ RENTAL PROPERTY - 3 BEDROOM HOUSE IN SEABROOK - AVAILABLE 8/4", 
        "I have a 3 Bedroom House in Seabrook which is available for rent on 8th April 2013. Location is Seabrook Bou...levard, Seabrook. Has 2 bathrooms (1 x ensuite and 1 x main bathroom with spa bath) No garage. But has extra long driveway which would fit 3 cars with ease as well as off curb designated parking for 2 cars. Pergola area outside - small back garden and 2 back sheds. Fantastic location if you want to send kids to the well regarded Seabrook Primary School as it is walking ...", 
        "http://www.gumtree.com.au/s-ad/seabrook/property-for-rent/-rental-property-3-bedroom-house-in-seabrook-available-8-4/1006143427", 
        "", 
        "350", 
        "Beachside Paradise. - Seaside, Shopping and Scenery", 
        "This newly renovated unit situated in Melbourne's most sought after beach - Williamstown. Famous for gorgeous... restaurants, Beautiful beaches and for Australian TV series' Blue Heelers & Rush. No expense has been spared turning this ugly ducking in to a beautiful swan - freshly painted and fully renovated, this home features new appliances including air-conditioner, brand new kitchen, brand new bathroom, and a spacious bedroom. This property is fantastically located seconds from shops, cafes ...", 
        "http://www.gumtree.com.au/s-ad/williamstown/property-for-rent/beachside-paradise-seaside-shopping-and-scenery/1016625944"
       ]
      }
     ], 
     "prompt_number": 14
    }, 
    {
     "cell_type": "code", 
     "collapsed": true, 
     "input": [
      "driver.close()"
     ], 
     "language": "python", 
     "outputs": [], 
     "prompt_number": 262
    }, 
    {
     "cell_type": "code", 
     "collapsed": false, 
     "input": [
      "1540.0 / 4.3"
     ], 
     "language": "python", 
     "outputs": [
      {
       "output_type": "pyout", 
       "prompt_number": 6, 
       "text": [
        "358.13953488372096"
       ]
      }
     ], 
     "prompt_number": 6
    }, 
    {
     "cell_type": "code", 
     "collapsed": false, 
     "input": [
      "360 * 4.3"
     ], 
     "language": "python", 
     "outputs": [
      {
       "output_type": "pyout", 
       "prompt_number": 11, 
       "text": [
        "1548.0"
       ]
      }
     ], 
     "prompt_number": 11
    }, 
    {
     "cell_type": "code", 
     "collapsed": false, 
     "input": [
      "areas_text = \"\"\"", 
      "Yarra Area - Richmond", 
      "Hobsons Bay Area", 
      "Whitehorse Area", 
      "Banyule Area", 
      "\"\"\""
     ], 
     "language": "python", 
     "outputs": [], 
     "prompt_number": 11
    }, 
    {
     "cell_type": "code", 
     "collapsed": true, 
     "input": [
      "area_lines = areas_text.split('\\n')"
     ], 
     "language": "python", 
     "outputs": [], 
     "prompt_number": 12
    }, 
    {
     "cell_type": "code", 
     "collapsed": false, 
     "input": [
      "areas = [line.split('-') for line in areas_text.split('\\n') if line]"
     ], 
     "language": "python", 
     "outputs": [], 
     "prompt_number": 13
    }, 
    {
     "cell_type": "code", 
     "collapsed": false, 
     "input": [
      "areas"
     ], 
     "language": "python", 
     "outputs": [
      {
       "output_type": "pyout", 
       "prompt_number": 14, 
       "text": [
        "[['Yarra Area ', ' Richmond'],", 
        " ['Hobsons Bay Area'],", 
        " ['Whitehorse Area'],", 
        " ['Banyule Area']]"
       ]
      }
     ], 
     "prompt_number": 14
    }, 
    {
     "cell_type": "code", 
     "collapsed": true, 
     "input": [], 
     "language": "python", 
     "outputs": []
    }
   ]
  }
 ]
}