{
 "metadata": {
  "name": "ebaybidder"
 },
 "nbformat": 3,
 "nbformat_minor": 0,
 "worksheets": [
  {
   "cells": [
    {
     "cell_type": "code",
     "collapsed": false,
     "input": [
      "from datetime import datetime\n",
      "import re\n"
     ],
     "language": "python",
     "metadata": {},
     "outputs": [],
     "prompt_number": 11
    },
    {
     "cell_type": "code",
     "collapsed": false,
     "input": [
      "def parse_mins_secs_left_Old(timetext):\n",
      "    mins, secs = 0, 0\n",
      "    timetext = timetext.replace('m', '').replace('s', '')\n",
      "    timenums = timetext.split()\n",
      "    if len(timenums) == 2:\n",
      "        mins, secs = timenums\n",
      "    elif len(timenums) == 1:\n",
      "        secs = timenums[0]\n",
      "    secs = 60 * int(mins) + int(secs)\n",
      "    return secs"
     ],
     "language": "python",
     "metadata": {},
     "outputs": [],
     "prompt_number": 12
    },
    {
     "cell_type": "code",
     "collapsed": false,
     "input": [
      "def parse_mins_secs_left(timetext):\n",
      "    regex = re.compile('(\\d+)m (\\d+)s')\n",
      "    m = regex.match(timetext)\n",
      "    return m.groups()"
     ],
     "language": "python",
     "metadata": {},
     "outputs": [],
     "prompt_number": 39
    },
    {
     "cell_type": "code",
     "collapsed": false,
     "input": [
      "def parse_mins_secs_left(timetext):\n",
      "    days, hours, mins, secs = 0, 0, 0, 0\n",
      "    m = re.search('(\\d+)d', timetext)\n",
      "    if m:\n",
      "        days = int(m.groups()[0])\n",
      "    return days, hours, mins, secs"
     ],
     "language": "python",
     "metadata": {},
     "outputs": [],
     "prompt_number": 74
    },
    {
     "cell_type": "code",
     "collapsed": false,
     "input": [
      "def parse_mins_secs_left(timetext):\n",
      "    matches = re.split('[d|h|m|s]', timetext)\n",
      "    nums = [int(m.strip()) for m in matches if m]\n",
      "    padded = []\n",
      "    for _ in range(len('dhms') - len(nums)):\n",
      "        padded.append(0)\n",
      "    padded.extend(nums)    \n",
      "    return padded"
     ],
     "language": "python",
     "metadata": {},
     "outputs": [],
     "prompt_number": 105
    },
    {
     "cell_type": "code",
     "collapsed": false,
     "input": [
      "time_pieces = parse_mins_secs_left('2d 1h 2m 03s')"
     ],
     "language": "python",
     "metadata": {},
     "outputs": [],
     "prompt_number": 130
    },
    {
     "cell_type": "code",
     "collapsed": false,
     "input": [
      "total_secs = 0\n",
      "for pair in zip([24*60*60, 60*60, 60, 1], time_pieces):\n",
      "    total_secs += pair[0] * pair[1]"
     ],
     "language": "python",
     "metadata": {},
     "outputs": [],
     "prompt_number": 131
    },
    {
     "cell_type": "code",
     "collapsed": false,
     "input": [
      "total_secs"
     ],
     "language": "python",
     "metadata": {},
     "outputs": [
      {
       "output_type": "pyout",
       "prompt_number": 132,
       "text": [
        "176523"
       ]
      }
     ],
     "prompt_number": 132
    },
    {
     "cell_type": "code",
     "collapsed": false,
     "input": [
      "m = re.search('.+\\$(\\d+\\.\\d\\d)', 'AU $399.00')"
     ],
     "language": "python",
     "metadata": {},
     "outputs": [],
     "prompt_number": 137
    },
    {
     "cell_type": "code",
     "collapsed": false,
     "input": [
      "float(m.groups()[0])"
     ],
     "language": "python",
     "metadata": {},
     "outputs": [
      {
       "output_type": "pyout",
       "prompt_number": 139,
       "text": [
        "399.0"
       ]
      }
     ],
     "prompt_number": 139
    },
    {
     "cell_type": "code",
     "collapsed": false,
     "input": [
      "text = '$9,990.00'\n",
      "text.replace(',', '')\n",
      "text\n"
     ],
     "language": "python",
     "metadata": {},
     "outputs": [
      {
       "output_type": "pyout",
       "prompt_number": 144,
       "text": [
        "'$9,990.00'"
       ]
      }
     ],
     "prompt_number": 144
    },
    {
     "cell_type": "code",
     "collapsed": false,
     "input": [
      "def seconds2time(total_secs):\n",
      "    hrs = total_secs // 3600\n",
      "    mins = total_secs % 3600 // 60\n",
      "    secs = total_secs % 3600 % 60\n",
      "    return hrs, mins, secs"
     ],
     "language": "python",
     "metadata": {},
     "outputs": [],
     "prompt_number": 1
    },
    {
     "cell_type": "code",
     "collapsed": false,
     "input": [
      "seconds2time(4851)\n"
     ],
     "language": "python",
     "metadata": {},
     "outputs": [
      {
       "output_type": "pyout",
       "prompt_number": 4,
       "text": [
        "(1, 20, 51)"
       ]
      }
     ],
     "prompt_number": 4
    },
    {
     "cell_type": "code",
     "collapsed": false,
     "input": [
      "1 * 3600 + 20 * 60 + 51 "
     ],
     "language": "python",
     "metadata": {},
     "outputs": [
      {
       "output_type": "pyout",
       "prompt_number": 3,
       "text": [
        "4851"
       ]
      }
     ],
     "prompt_number": 3
    },
    {
     "cell_type": "code",
     "collapsed": false,
     "input": [
      "x = 100\n",
      "y = 0\n",
      "try:\n",
      "    result = x / y\n",
      "except Exception, e:\n",
      "    print \"Error happened: \", e\n",
      "else:\n",
      "    print \"result is\", result"
     ],
     "language": "python",
     "metadata": {},
     "outputs": [
      {
       "output_type": "stream",
       "stream": "stdout",
       "text": [
        "Error happened:  integer division or modulo by zero\n"
       ]
      }
     ],
     "prompt_number": 8
    },
    {
     "cell_type": "code",
     "collapsed": false,
     "input": [],
     "language": "python",
     "metadata": {},
     "outputs": []
    }
   ],
   "metadata": {}
  }
 ]
}