{
 "metadata": {
  "name": "yaml"
 },
 "nbformat": 3,
 "nbformat_minor": 0,
 "worksheets": [
  {
   "cells": [
    {
     "cell_type": "code",
     "collapsed": false,
     "input": [
      "import yaml"
     ],
     "language": "python",
     "metadata": {},
     "outputs": [],
     "prompt_number": 1
    },
    {
     "cell_type": "code",
     "collapsed": false,
     "input": [
      "with open(\"menu.yaml\", 'r') as f:\n",
      "    menu = yaml.load(f)\n",
      "    print(menu)"
     ],
     "language": "python",
     "metadata": {},
     "outputs": [
      {
       "output_type": "stream",
       "stream": "stdout",
       "text": [
        "{'Melb': {'Bayside': None, 'Yarra': {'Richmond': None}, 'Blackburn': None}}\n"
       ]
      }
     ],
     "prompt_number": 6
    },
    {
     "cell_type": "code",
     "collapsed": false,
     "input": [
      "def parseMenu(menu, lst):\n",
      "    for k, v in menu.items():\n",
      "        lst.append(k)        \n",
      "        if v:\n",
      "            parseMenu(v, lst)\n",
      "        else:\n",
      "            lst.pop()\n",
      "            print lst"
     ],
     "language": "python",
     "metadata": {},
     "outputs": [],
     "prompt_number": 42
    },
    {
     "cell_type": "code",
     "collapsed": false,
     "input": [
      "lst = []\n",
      "parseMenu(menu, lst)"
     ],
     "language": "python",
     "metadata": {},
     "outputs": [
      {
       "output_type": "stream",
       "stream": "stdout",
       "text": [
        "['Melb']\n",
        "['Melb', 'Yarra']\n",
        "['Melb', 'Yarra']\n"
       ]
      }
     ],
     "prompt_number": 43
    },
    {
     "cell_type": "code",
     "collapsed": false,
     "input": [
      "lst"
     ],
     "language": "python",
     "metadata": {},
     "outputs": [
      {
       "output_type": "pyout",
       "prompt_number": 20,
       "text": [
        "['Melb', 'Bayside', 'Yarra', 'Richmond', 'Blackburn']"
       ]
      }
     ],
     "prompt_number": 20
    },
    {
     "cell_type": "code",
     "collapsed": false,
     "input": [
      "for city, cmenu in menu.items():\n",
      "    for area, amenu in cmenu.items():\n",
      "        if amenu:\n",
      "            for suburb, smenu in amenu.items():\n",
      "                print city, area, suburb\n",
      "        else:\n",
      "            print city, area"
     ],
     "language": "python",
     "metadata": {},
     "outputs": [
      {
       "output_type": "stream",
       "stream": "stdout",
       "text": [
        "Melb Bayside\n",
        "Melb Yarra Richmond\n",
        "Melb Blackburn\n"
       ]
      }
     ],
     "prompt_number": 25
    },
    {
     "cell_type": "code",
     "collapsed": false,
     "input": [],
     "language": "python",
     "metadata": {},
     "outputs": []
    }
   ],
   "metadata": {}
  }
 ]
}